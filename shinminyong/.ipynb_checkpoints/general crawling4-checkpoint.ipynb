{
 "cells": [
  {
   "cell_type": "code",
   "execution_count": 1,
   "metadata": {},
   "outputs": [],
   "source": [
    "from datetime import datetime\n",
    "import pandas as pd\n",
    "import time\n",
    "import re\n",
    "import openpyxl\n",
    "import pandas as pd\n",
    "import requests\n",
    "from bs4 import BeautifulSoup\n",
    "import pickle"
   ]
  },
  {
   "cell_type": "code",
   "execution_count": 2,
   "metadata": {},
   "outputs": [],
   "source": [
    "urldata = pd.read_pickle('mbti_total_url.pkl')\n",
    "urllist = urldata['url'].tolist()"
   ]
  },
  {
   "cell_type": "code",
   "execution_count": 3,
   "metadata": {},
   "outputs": [
    {
     "data": {
      "text/plain": [
       "49225"
      ]
     },
     "execution_count": 3,
     "metadata": {},
     "output_type": "execute_result"
    }
   ],
   "source": [
    "len(urllist)"
   ]
  },
  {
   "cell_type": "code",
   "execution_count": 4,
   "metadata": {},
   "outputs": [],
   "source": [
    "name_list = list()\n",
    "gender_list = list()\n",
    "datetime_list = list()\n",
    "text_list = list()\n",
    "url_list = list()"
   ]
  },
  {
   "cell_type": "code",
   "execution_count": null,
   "metadata": {},
   "outputs": [
    {
     "name": "stdout",
     "output_type": "stream",
     "text": [
      "https://www.personalitycafe.com/myers-briggs-forum/788466-mbti-breakdown-gender-intuition-vs-thinking-1.html\n",
      "1 / 3\n",
      "https://www.personalitycafe.com/myers-briggs-forum/788466-mbti-breakdown-gender-intuition-vs-thinking-2.html\n",
      "2 / 3\n",
      "https://www.personalitycafe.com/myers-briggs-forum/788466-mbti-breakdown-gender-intuition-vs-thinking-3.html\n",
      "3 / 3\n",
      "30 30 30 30 30\n",
      "30000\n",
      "https://www.personalitycafe.com/myers-briggs-forum/791538-how-accurate-your-experience-has-mbti-been-dealing-relationships-1.html\n",
      "1 / 2\n",
      "https://www.personalitycafe.com/myers-briggs-forum/791538-how-accurate-your-experience-has-mbti-been-dealing-relationships-2.html\n",
      "2 / 2\n",
      "14 14 14 14 14\n",
      "30001\n",
      "https://www.personalitycafe.com/myers-briggs-forum/213130-what-personality-type-do-you-think-oscar-wilde-1.html\n",
      "1 / 1\n",
      "20 20 20 20 20\n",
      "30002\n",
      "https://www.personalitycafe.com/myers-briggs-forum/92887-can-feelers-critical-what-situations-can-feelers-critical-1.html\n",
      "1 / 3\n",
      "https://www.personalitycafe.com/myers-briggs-forum/92887-can-feelers-critical-what-situations-can-feelers-critical-2.html\n",
      "2 / 3\n",
      "https://www.personalitycafe.com/myers-briggs-forum/92887-can-feelers-critical-what-situations-can-feelers-critical-3.html\n",
      "3 / 3\n",
      "52 52 52 52 52\n",
      "30003\n",
      "https://www.personalitycafe.com/myers-briggs-forum/790826-entj-entp-friendships-relationships-world-domination-likelihood-1.html\n",
      "1 / 1\n",
      "55 55 55 55 55\n",
      "30004\n",
      "https://www.personalitycafe.com/myers-briggs-forum/777658-religion-mbti-poll-1.html\n",
      "1 / 5\n",
      "https://www.personalitycafe.com/myers-briggs-forum/777658-religion-mbti-poll-2.html\n",
      "2 / 5\n",
      "https://www.personalitycafe.com/myers-briggs-forum/777658-religion-mbti-poll-3.html\n",
      "3 / 5\n",
      "https://www.personalitycafe.com/myers-briggs-forum/777658-religion-mbti-poll-4.html\n",
      "4 / 5\n",
      "https://www.personalitycafe.com/myers-briggs-forum/777658-religion-mbti-poll-5.html\n",
      "5 / 5\n",
      "105 105 105 105 105\n",
      "30005\n",
      "https://www.personalitycafe.com/myers-briggs-forum/790146-compliment-personality-type-above-you-1.html\n",
      "1 / 1\n",
      "111 111 111 111 111\n",
      "30006\n",
      "https://www.personalitycafe.com/myers-briggs-forum/790458-entps-1.html\n",
      "1 / 1\n",
      "113 113 113 113 113\n",
      "30007\n",
      "https://www.personalitycafe.com/myers-briggs-forum/789114-infj-i-think-i-am-headed-single-rest-my-life-1.html\n",
      "1 / 3\n"
     ]
    }
   ],
   "source": [
    "for i in range(30000,40000):\n",
    "    page = requests.get(urllist[i])\n",
    "    html = page.text\n",
    "    soup = BeautifulSoup(html, 'html.parser')\n",
    "    \n",
    "    try:\n",
    "        num_page = int(re.findall('[0-9]+', soup.select('span > a')[0].text)[1])\n",
    "    except:\n",
    "        num_page = 1\n",
    "\n",
    "    for j in range(0,num_page):\n",
    "        page = requests.get(urllist[i][:-5]+\"-\"+str(j+1)+\".html\")\n",
    "        print(urllist[i][:-5]+\"-\"+str(j+1)+\".html\")\n",
    "        html = page.text\n",
    "        soup = BeautifulSoup(html, 'html.parser')\n",
    "\n",
    "        userinfo = soup.select('div.postdetails > div.userinfo') # 유저 정보\n",
    "        datetime = soup.select('div.posthead > span.postdate.old > span') # 날짜\n",
    "        texts = soup.find_all('blockquote',{'class':'postcontent restore '}) # 본문  --dk만 띄어쓰기 없음('postcontent restore')\n",
    "        \n",
    "        for m in range(len(texts)): # 텍스트 처리 용  for 문\n",
    "            try:\n",
    "                texts[m].find('div',{'class':'bbcode_container'}).decompose()\n",
    "            except:\n",
    "                pass\n",
    "\n",
    "            try:\n",
    "                texts[m].find('div',{'class':'lockerdome'}).decompose()\n",
    "            except:\n",
    "                pass\n",
    "            \n",
    "            # site link 처리 보류\n",
    "#             try:\n",
    "#                 texts[m].find('a').decompose()\n",
    "#             except:\n",
    "#                 pass\n",
    "            \n",
    "        \n",
    "        for k in range(len(userinfo)):\n",
    "            try:\n",
    "                name_list.append(userinfo[k].find('a',{'rel':'nofollow'}).text) \n",
    "            except:\n",
    "                name_list.append(\"0\")\n",
    "\n",
    "            try:\n",
    "                gender_list.append(userinfo[k].find('img')['src'].split('/')[-1].split('.')[0])\n",
    "            except:\n",
    "                gender_list.append(\"0\")\n",
    "            \n",
    "            try:\n",
    "                text_list.append(texts[k].get_text(strip=True))\n",
    "            except:\n",
    "                text_list.append(\"0\")\n",
    "\n",
    "            try:\n",
    "                datetime_list.append(datetime[k].text)\n",
    "            except:\n",
    "                datetime_list.append(\"0\")\n",
    "                \n",
    "            try:\n",
    "                url_list.append(urllist[i][:-5]+\"-\"+str(j+1)+\".html\")\n",
    "            except:\n",
    "                url_list.append(\"0\")\n",
    "            \n",
    "        print(j+1,\"/\",num_page)\n",
    "    print(len(name_list),len(gender_list),len(text_list),len(datetime_list),len(url_list))\n",
    "    print(i)\n",
    "    \n",
    "    \n",
    "    if i % 10 == 0:\n",
    "        mbti_ls0 = [name_list,gender_list,text_list,datetime_list,url_list]\n",
    "        mbti_ls = list(map(list,zip(*mbti_ls0)))\n",
    "        mbti_df = pd.DataFrame(mbti_ls,columns =['name_list','gender_list','text_list','datetime_list','url_list'])\n",
    "\n",
    "        mbti_df.to_csv('./general_df/mbti_general_data'+str(i)+'.csv',index=False)   \n",
    "        \n",
    "        name_list = list()\n",
    "        gender_list = list()\n",
    "        datetime_list = list()\n",
    "        text_list = list()\n",
    "        url_list = list()\n",
    "\n",
    "mbti_ls0 = [name_list,gender_list,text_list,datetime_list,url_list]\n",
    "mbti_ls = list(map(list,zip(*mbti_ls0)))\n",
    "mbti_df = pd.DataFrame(mbti_ls,columns =['name_list','gender_list','text_list','datetime_list','url_list'])\n",
    "\n",
    "mbti_df.to_csv('./general_df/mbti_general_data'+str(i)+'.csv',index=False) "
   ]
  },
  {
   "cell_type": "code",
   "execution_count": null,
   "metadata": {},
   "outputs": [],
   "source": []
  }
 ],
 "metadata": {
  "anaconda-cloud": {},
  "kernelspec": {
   "display_name": "Python 3",
   "language": "python",
   "name": "python3"
  },
  "language_info": {
   "codemirror_mode": {
    "name": "ipython",
    "version": 3
   },
   "file_extension": ".py",
   "mimetype": "text/x-python",
   "name": "python",
   "nbconvert_exporter": "python",
   "pygments_lexer": "ipython3",
   "version": "3.6.5"
  }
 },
 "nbformat": 4,
 "nbformat_minor": 1
}
